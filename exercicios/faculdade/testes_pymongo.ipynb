{
 "cells": [
  {
   "cell_type": "code",
   "execution_count": 1,
   "id": "ec1c3e0b",
   "metadata": {},
   "outputs": [],
   "source": [
    "import pymongo\n",
    "from datetime import datetime\n",
    "from bson.objectid import ObjectId"
   ]
  },
  {
   "cell_type": "markdown",
   "id": "d04f72ef",
   "metadata": {},
   "source": [
    "#### Estabelecendo conexão cliente-servidor"
   ]
  },
  {
   "cell_type": "code",
   "execution_count": 2,
   "id": "5ef7ccda",
   "metadata": {},
   "outputs": [],
   "source": [
    "# Criando conexão.\n",
    "con = pymongo.MongoClient(\"localhost\", 27017)"
   ]
  },
  {
   "cell_type": "code",
   "execution_count": 3,
   "id": "931022d2",
   "metadata": {},
   "outputs": [],
   "source": [
    "# Acessando o banco de dados cadastrodb.\n",
    "db = con.cadastrodb"
   ]
  },
  {
   "cell_type": "code",
   "execution_count": 4,
   "id": "4632d075",
   "metadata": {},
   "outputs": [
    {
     "name": "stdout",
     "output_type": "stream",
     "text": [
      "admin\n",
      "cadastrodb\n",
      "config\n",
      "local\n"
     ]
    }
   ],
   "source": [
    "# Listando todos os banco de dados da conexão.\n",
    "for dbs in con.list_database_names():\n",
    "    print(dbs)"
   ]
  },
  {
   "cell_type": "code",
   "execution_count": 5,
   "id": "774ae17a",
   "metadata": {},
   "outputs": [
    {
     "data": {
      "text/plain": [
       "['posts']"
      ]
     },
     "execution_count": 5,
     "metadata": {},
     "output_type": "execute_result"
    }
   ],
   "source": [
    "# Criando coleção posts no banco de dados.\n",
    "posts = db.posts\n",
    "\n",
    "# Listando as coleções criadas.\n",
    "db.list_collection_names()"
   ]
  },
  {
   "cell_type": "code",
   "execution_count": 6,
   "id": "187d119b",
   "metadata": {},
   "outputs": [
    {
     "data": {
      "text/plain": [
       "<pymongo.results.DeleteResult at 0x1d55552bc70>"
      ]
     },
     "execution_count": 6,
     "metadata": {},
     "output_type": "execute_result"
    }
   ],
   "source": [
    "# Limpando a coleção (caso tenha algum documento armazenado).\n",
    "posts.delete_many({})"
   ]
  },
  {
   "cell_type": "markdown",
   "id": "54691fdc",
   "metadata": {},
   "source": [
    "#### Inserindo documentos"
   ]
  },
  {
   "cell_type": "code",
   "execution_count": 7,
   "id": "57f0a965",
   "metadata": {},
   "outputs": [],
   "source": [
    "# Criando três dicionários (documentos) que, sintaxecamente, assemelham-se às estruturas JSON.\n",
    "\n",
    "post1 = {\n",
    "    \"codigo\": \"ID-9987725\",\n",
    "    \"prod_name\": \"geladeira\",\n",
    "    \"marcas\": [\"brastemp\", \"consul\", \"electrolux\"],\n",
    "    \"data_cadastro\": datetime(2022, 5, 20),\n",
    "}\n",
    "\n",
    "post2 = {\n",
    "    \"codigo\": \"ID-2209876\",\n",
    "    \"prod_name\": \"televisor\",\n",
    "    \"marcas\": [\"samsung\", \"panasonic\", \"lg\"],\n",
    "    \"data_cadastro\": datetime(2022, 5, 21),\n",
    "}\n",
    "\n",
    "post3 = {\n",
    "    \"codigo\": \"ID-2879521\",\n",
    "    \"prod_name\": \"videogame\",\n",
    "    \"marcas\": [\"playstation\", \"xbox\", \"nintendo\"],\n",
    "    \"data_cadastro\": datetime(2022, 5, 22),\n",
    "}\n",
    "\n",
    "many_posts = [post1, post2, post3]"
   ]
  },
  {
   "cell_type": "code",
   "execution_count": 8,
   "id": "c85f5b14",
   "metadata": {},
   "outputs": [
    {
     "data": {
      "text/plain": [
       "[ObjectId('628c0d9aea72f1231e170822'),\n",
       " ObjectId('628c0d9aea72f1231e170823'),\n",
       " ObjectId('628c0d9aea72f1231e170824')]"
      ]
     },
     "execution_count": 8,
     "metadata": {},
     "output_type": "execute_result"
    }
   ],
   "source": [
    "# Inserindo os objetos na coleção posts.\n",
    "posts_id = posts.insert_many(many_posts)\n",
    "\n",
    "# Visualizando os ids de cada objeto.\n",
    "posts_id.inserted_ids"
   ]
  },
  {
   "cell_type": "code",
   "execution_count": 9,
   "id": "fb414957",
   "metadata": {},
   "outputs": [
    {
     "data": {
      "text/plain": [
       "3"
      ]
     },
     "execution_count": 9,
     "metadata": {},
     "output_type": "execute_result"
    }
   ],
   "source": [
    "# Contando a quantidade de documentos.\n",
    "posts.count_documents({})"
   ]
  },
  {
   "cell_type": "code",
   "execution_count": 10,
   "id": "17a77467",
   "metadata": {},
   "outputs": [
    {
     "name": "stdout",
     "output_type": "stream",
     "text": [
      "{'_id': ObjectId('628c0d9aea72f1231e170822'), 'codigo': 'ID-9987725', 'prod_name': 'geladeira', 'marcas': ['brastemp', 'consul', 'electrolux'], 'data_cadastro': datetime.datetime(2022, 5, 20, 0, 0)}\n",
      "\n",
      "{'_id': ObjectId('628c0d9aea72f1231e170823'), 'codigo': 'ID-2209876', 'prod_name': 'televisor', 'marcas': ['samsung', 'panasonic', 'lg'], 'data_cadastro': datetime.datetime(2022, 5, 21, 0, 0)}\n",
      "\n",
      "{'_id': ObjectId('628c0d9aea72f1231e170824'), 'codigo': 'ID-2879521', 'prod_name': 'videogame', 'marcas': ['playstation', 'xbox', 'nintendo'], 'data_cadastro': datetime.datetime(2022, 5, 22, 0, 0)}\n",
      "\n"
     ]
    }
   ],
   "source": [
    "# Listando todos os documentos.\n",
    "for item in posts.find():\n",
    "    print(item, end=\"\\n\\n\")"
   ]
  },
  {
   "cell_type": "markdown",
   "id": "0d191fbb",
   "metadata": {},
   "source": [
    "#### Deletando documentos"
   ]
  },
  {
   "cell_type": "code",
   "execution_count": 11,
   "id": "42f4dca0",
   "metadata": {},
   "outputs": [
    {
     "data": {
      "text/plain": [
       "<pymongo.results.DeleteResult at 0x1d555552e20>"
      ]
     },
     "execution_count": 11,
     "metadata": {},
     "output_type": "execute_result"
    }
   ],
   "source": [
    "# Deletando documentos com base em uma query.\n",
    "\n",
    "query_delete = {\"prod_name\": \"televisor\"}\n",
    "\n",
    "posts.delete_many(query_delete)"
   ]
  },
  {
   "cell_type": "code",
   "execution_count": 12,
   "id": "b6954489",
   "metadata": {},
   "outputs": [
    {
     "name": "stdout",
     "output_type": "stream",
     "text": [
      "{'_id': ObjectId('628c0d9aea72f1231e170822'), 'codigo': 'ID-9987725', 'prod_name': 'geladeira', 'marcas': ['brastemp', 'consul', 'electrolux'], 'data_cadastro': datetime.datetime(2022, 5, 20, 0, 0)}\n",
      "\n",
      "{'_id': ObjectId('628c0d9aea72f1231e170824'), 'codigo': 'ID-2879521', 'prod_name': 'videogame', 'marcas': ['playstation', 'xbox', 'nintendo'], 'data_cadastro': datetime.datetime(2022, 5, 22, 0, 0)}\n",
      "\n"
     ]
    }
   ],
   "source": [
    "for item in posts.find():\n",
    "    print(item, end=\"\\n\\n\")"
   ]
  },
  {
   "cell_type": "markdown",
   "id": "38761252",
   "metadata": {},
   "source": [
    "#### Busca por _id"
   ]
  },
  {
   "cell_type": "code",
   "execution_count": 13,
   "id": "5e6d6975",
   "metadata": {},
   "outputs": [],
   "source": [
    "# _id no formato string.\n",
    "str_id = str(posts.find_one()[\"_id\"])\n",
    "\n",
    "# _id no formato ObjectId.\n",
    "obj_id = ObjectId(str_id)"
   ]
  },
  {
   "cell_type": "code",
   "execution_count": 14,
   "id": "6efadb87",
   "metadata": {},
   "outputs": [],
   "source": [
    "# Não tem retorno.\n",
    "posts.find_one({\"_id\": str_id})"
   ]
  },
  {
   "cell_type": "code",
   "execution_count": 15,
   "id": "15ccb7ca",
   "metadata": {},
   "outputs": [
    {
     "data": {
      "text/plain": [
       "{'_id': ObjectId('628c0d9aea72f1231e170822'),\n",
       " 'codigo': 'ID-9987725',\n",
       " 'prod_name': 'geladeira',\n",
       " 'marcas': ['brastemp', 'consul', 'electrolux'],\n",
       " 'data_cadastro': datetime.datetime(2022, 5, 20, 0, 0)}"
      ]
     },
     "execution_count": 15,
     "metadata": {},
     "output_type": "execute_result"
    }
   ],
   "source": [
    "# Retorna o documento.\n",
    "posts.find_one({\"_id\": obj_id})"
   ]
  },
  {
   "cell_type": "markdown",
   "id": "0b239b0b",
   "metadata": {},
   "source": [
    "#### Busca com operador"
   ]
  },
  {
   "cell_type": "code",
   "execution_count": 16,
   "id": "23e2ac5b",
   "metadata": {},
   "outputs": [
    {
     "name": "stdout",
     "output_type": "stream",
     "text": [
      "{'_id': ObjectId('628c0d9aea72f1231e170822'), 'codigo': 'ID-9987725', 'prod_name': 'geladeira', 'marcas': ['brastemp', 'consul', 'electrolux'], 'data_cadastro': datetime.datetime(2022, 5, 20, 0, 0)}\n",
      "\n"
     ]
    }
   ],
   "source": [
    "date = datetime(2022, 5, 21)\n",
    "\n",
    "# Busca pelo documentos com data de cadastro antes do dia 21/05/2022.\n",
    "for item in posts.find({\"data_cadastro\": {\"$lt\": date}}):\n",
    "    print(item, end=\"\\n\\n\")"
   ]
  },
  {
   "cell_type": "markdown",
   "id": "9b01c36e",
   "metadata": {},
   "source": [
    "#### Utilizando índice para criar atributos únicos"
   ]
  },
  {
   "cell_type": "code",
   "execution_count": 17,
   "id": "c0454530",
   "metadata": {},
   "outputs": [
    {
     "data": {
      "text/plain": [
       "'codigo_1'"
      ]
     },
     "execution_count": 17,
     "metadata": {},
     "output_type": "execute_result"
    }
   ],
   "source": [
    "# Criando índice único para o atributo codigo\n",
    "db.posts.create_index([(\"codigo\", pymongo.ASCENDING)], unique=True)"
   ]
  },
  {
   "cell_type": "code",
   "execution_count": 18,
   "id": "836da4e6",
   "metadata": {},
   "outputs": [],
   "source": [
    "post_novo = {\n",
    "    \"codigo\": \"ID-2200690\",\n",
    "    \"prod_name\": \"celular\",\n",
    "    \"marcas\": [\"motorola\", \"apple\", \"xiaomi\"],\n",
    "    \"data_cadastro\": datetime.utcnow(),\n",
    "}\n",
    "\n",
    "post_duplicado = {\n",
    "    \"codigo\": \"ID-2879521\",\n",
    "    \"prod_name\": \"videogame\",\n",
    "    \"marcas\": [\"playstation\", \"xbox\", \"nintendo\"],\n",
    "    \"data_cadastro\": datetime(2022, 5, 22),\n",
    "}"
   ]
  },
  {
   "cell_type": "code",
   "execution_count": 19,
   "id": "1988c0fb",
   "metadata": {},
   "outputs": [
    {
     "data": {
      "text/plain": [
       "<pymongo.results.InsertOneResult at 0x1d555572d00>"
      ]
     },
     "execution_count": 19,
     "metadata": {},
     "output_type": "execute_result"
    }
   ],
   "source": [
    "# Insere normalmente.\n",
    "posts.insert_one(post_novo)"
   ]
  },
  {
   "cell_type": "code",
   "execution_count": 20,
   "id": "70628784",
   "metadata": {},
   "outputs": [
    {
     "name": "stdout",
     "output_type": "stream",
     "text": [
      "Erro de chave duplicada\n"
     ]
    }
   ],
   "source": [
    "# Levanta excessão de chave duplicada.\n",
    "try:\n",
    "    posts.insert_one(post_duplicado)\n",
    "except pymongo.errors.DuplicateKeyError:\n",
    "    print(\"Erro de chave duplicada\")"
   ]
  },
  {
   "cell_type": "code",
   "execution_count": 21,
   "id": "62fb06ed",
   "metadata": {},
   "outputs": [
    {
     "name": "stdout",
     "output_type": "stream",
     "text": [
      "{'_id': ObjectId('628c0d9aea72f1231e170822'), 'codigo': 'ID-9987725', 'prod_name': 'geladeira', 'marcas': ['brastemp', 'consul', 'electrolux'], 'data_cadastro': datetime.datetime(2022, 5, 20, 0, 0)}\n",
      "\n",
      "{'_id': ObjectId('628c0d9aea72f1231e170824'), 'codigo': 'ID-2879521', 'prod_name': 'videogame', 'marcas': ['playstation', 'xbox', 'nintendo'], 'data_cadastro': datetime.datetime(2022, 5, 22, 0, 0)}\n",
      "\n",
      "{'_id': ObjectId('628c0d9bea72f1231e170825'), 'codigo': 'ID-2200690', 'prod_name': 'celular', 'marcas': ['motorola', 'apple', 'xiaomi'], 'data_cadastro': datetime.datetime(2022, 5, 23, 22, 41, 31, 715000)}\n",
      "\n"
     ]
    }
   ],
   "source": [
    "for item in posts.find():\n",
    "    print(item, end=\"\\n\\n\")"
   ]
  }
 ],
 "metadata": {
  "kernelspec": {
   "display_name": "Python 3",
   "language": "python",
   "name": "python3"
  },
  "language_info": {
   "codemirror_mode": {
    "name": "ipython",
    "version": 3
   },
   "file_extension": ".py",
   "mimetype": "text/x-python",
   "name": "python",
   "nbconvert_exporter": "python",
   "pygments_lexer": "ipython3",
   "version": "3.8.8"
  }
 },
 "nbformat": 4,
 "nbformat_minor": 5
}
