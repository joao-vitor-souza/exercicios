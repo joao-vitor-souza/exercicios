{
 "cells": [
  {
   "cell_type": "markdown",
   "metadata": {
    "id": "sg9a1d-nlmUk"
   },
   "source": [
    "## Lista de Exercícios: https://1drv.ms/b/s!AvhaQZpusCidtAwaReg1TJjZmUPH?e=KBnPCl"
   ]
  },
  {
   "cell_type": "code",
   "execution_count": 1,
   "metadata": {
    "id": "DLXi9DNUjF9F"
   },
   "outputs": [],
   "source": [
    "import numpy as np\n",
    "import pandas as pd\n",
    "import seaborn as sns\n",
    "import matplotlib.pyplot as plt\n",
    "from scipy.stats import t, pearsonr"
   ]
  },
  {
   "cell_type": "markdown",
   "metadata": {
    "id": "zPbQZYVRcgNe"
   },
   "source": [
    "### Função para auxiliar na resolução de problemas de regressão linear"
   ]
  },
  {
   "cell_type": "code",
   "execution_count": 2,
   "metadata": {
    "id": "Jxb2kuBQi8mE"
   },
   "outputs": [],
   "source": [
    "# x: Lista das variáveis preditoras;\n",
    "# y: Lista das variáveis respostas;\n",
    "# x_p: Valor de x para o cálculo da previsão, None por padrão;\n",
    "# alpha: Nível de significância dos intervalos de confiança, 5% por padrão.\n",
    "\n",
    "\n",
    "def regressao(x, y, x_p=False, alpha=0.05):\n",
    "\n",
    "    # Conversão em arrays.\n",
    "    x = np.asarray(x)\n",
    "    y = np.asarray(y)\n",
    "\n",
    "    # Tamanho e médias.\n",
    "    n = len(x)\n",
    "    x_ = x.mean()\n",
    "    y_ = y.mean()\n",
    "\n",
    "    # Somas.\n",
    "    soma_x = x.sum()\n",
    "    soma_y = y.sum()\n",
    "    soma_x_y = (x * y).sum()\n",
    "    soma_x_2 = (x**2).sum()\n",
    "    soma_y_2 = (y**2).sum()\n",
    "\n",
    "    Sxx = soma_x_2 - (soma_x**2) / n\n",
    "    Syy = soma_y_2 - (soma_y**2) / n\n",
    "    Sxy = soma_x_y - (soma_x * soma_y) / n\n",
    "\n",
    "    # Parâmetros e Coeficiente de Correlação de Pearson.\n",
    "    a = Sxy / Sxx\n",
    "    b = y_ - a * x_\n",
    "    r = Sxy / np.sqrt(Sxx * Syy)\n",
    "\n",
    "    # Podemos usar a função pearsonr da bibliotea Scipy para calcular o Coeficiente de Correlação e o Valor-p associado.\n",
    "    # r, p = pearsonr(x, y)\n",
    "\n",
    "    # Todos os valores previstos.\n",
    "    y_chapeu = a * x + b\n",
    "\n",
    "    # Para o Desvio podemos usar qualquer uma das três equações:\n",
    "\n",
    "    # forma_1 = np.sqrt(((y - y_chapeu)**2).sum()/(n-2))\n",
    "    # forma_2 = np.sqrt((soma_y_2 - b*soma_y - a*soma_x_y)/(n-2))\n",
    "    # forma_3 = np.sqrt((Syy - a*Sxy)/(n-2))\n",
    "\n",
    "    # np.allclose(forma_1, forma_2) --> True\n",
    "    # np.allclose(forma_2, forma_3) --> True\n",
    "\n",
    "    s = np.sqrt((Syy - a * Sxy) / (n - 2))\n",
    "\n",
    "    # Desvio Padrão Estimado.\n",
    "    s_y = s * np.sqrt((1 / n) + (x_p - x_) ** 2 / Sxx)\n",
    "\n",
    "    # Erros Padrão.\n",
    "    s_a = s / np.sqrt(Sxx)\n",
    "    s_b = s * np.sqrt((1 / n) + (x_**2 / Sxx))\n",
    "\n",
    "    # Valores críticos.\n",
    "    t_c = t.ppf(1 - alpha / 2, n - 2)\n",
    "    t_a = a / s_a\n",
    "    t_b = b / s_b\n",
    "\n",
    "    # Margens de Erro\n",
    "    E_a = t_c * s / np.sqrt(Sxx)\n",
    "    E_b = t_c * s * np.sqrt(1 / n + ((soma_x / n) ** 2) / Sxx)\n",
    "    E_y_ic = t_c * s_y\n",
    "    E_y_ip = t_c * np.sqrt(s**2 + s_y**2)\n",
    "\n",
    "    # Resíduos\n",
    "    y_obs = False\n",
    "    y_esp = a * x_p + b\n",
    "    if np.argmax(x == x_p):\n",
    "        y_obs = y[np.argmax(x == x_p)]\n",
    "        e = y_obs - y_esp\n",
    "        e_std = e / (s * np.sqrt(1 - 1 / n - (x_p - x_) ** 2 / Sxx))\n",
    "\n",
    "    # Output formatado.\n",
    "    print(f'------------------------ {\"Somas\":^15} -------------------------\\n')\n",
    "    print(\"Sxx:\", Sxx)\n",
    "    print(\"Syy:\", Syy)\n",
    "    print(\"Sxy:\", Sxy)\n",
    "\n",
    "    print(f'\\n------------------------ {\"Parâmetros\":^15} -------------------------\\n')\n",
    "    print(\"a:\", a)\n",
    "    print(\"b:\", b)\n",
    "    print(f\"reta: y = {round(a, 4)}x + {round(b, 4)}\")\n",
    "\n",
    "    if x_p:\n",
    "        print(\n",
    "            f'\\n------------------------ {\"Valor Esperado, IC e IP\":^25} -------------------------\\n'\n",
    "        )\n",
    "        print(\"y_p:\", y_esp)\n",
    "        print(\"IC:\", (y_esp - E_y_ic, y_esp + E_y_ic))\n",
    "        print(\"IP:\", (y_esp - E_y_ip, y_esp + E_y_ip))\n",
    "        print(\"Desvio Padrão Estimado:\", s_y)\n",
    "\n",
    "    print(\n",
    "        f'\\n------------------------ {\"Coeficientes\":^15} -------------------------\\n'\n",
    "    )\n",
    "    print(\"r:\", r)\n",
    "    print(\"r²:\", r**2)\n",
    "\n",
    "    print(\n",
    "        f'\\n--------------------- {\"Desvio e Erros Padrão\":^21} ----------------------\\n'\n",
    "    )\n",
    "    print(\"s:\", s)\n",
    "    print(\"sb:\", s_b)\n",
    "    print(\"sa:\", s_a)\n",
    "\n",
    "    print(\n",
    "        f'\\n------------------------ {\"Valor Crítico\":^15} -------------------------\\n'\n",
    "    )\n",
    "    print(\"tc:\", t_c)\n",
    "\n",
    "    print(\n",
    "        f'\\n------------------------ {\"Margens de Erro\":^15} -------------------------\\n'\n",
    "    )\n",
    "    print(\"Ea:\", E_a)\n",
    "    print(\"Eb:\", E_b)\n",
    "\n",
    "    print(\n",
    "        f'\\n------------------------ {\"IC e t Críticos\":^15} -------------------------\\n'\n",
    "    )\n",
    "    print(\"Para a:\", (a - E_a, a + E_a, t_a))\n",
    "    print(\"Para b:\", (b - E_b, b + E_b, t_b), end=\"\\n\\n\")\n",
    "\n",
    "    if y_obs:\n",
    "        print(\n",
    "            f'\\n------------------------ {\"Resíduos\":^15} -------------------------\\n'\n",
    "        )\n",
    "        print(\"e:\", e)\n",
    "        print(\"e*:\", e_std)\n",
    "    else:\n",
    "        print(\n",
    "            f'\\n------------------------ {\"Resíduos\":^15} -------------------------\\n'\n",
    "        )\n",
    "        print(f\"O valor de {x_p} não foi observado na amostra de variáveis preditoras!\")\n",
    "\n",
    "    print(f\"\\n------------------------------------------------------------------\\n\")\n",
    "\n",
    "    # DataFrame para plotagem.\n",
    "    dados = pd.DataFrame([x, y]).T\n",
    "    dados.columns = [\"x\", \"y\"]\n",
    "\n",
    "    # Plotagem.\n",
    "    sns.lmplot(x=\"x\", y=\"y\", data=dados, ci=100 - 100 * alpha, height=6, aspect=1.5)"
   ]
  },
  {
   "cell_type": "markdown",
   "metadata": {
    "id": "D0rTxNyZmc-0"
   },
   "source": [
    "### Exercício 1"
   ]
  },
  {
   "cell_type": "code",
   "execution_count": 3,
   "metadata": {
    "id": "jEaSet3xiJsj"
   },
   "outputs": [],
   "source": [
    "x = np.array([11, 5, 3, 9, 12, 6, 5, 9, 4, 7, 8, 10, 13, 11, 7, 10, 13, 4, 6, 2]) * 1000\n",
    "y = (\n",
    "    np.array(\n",
    "        [25, 13, 8, 20, 25, 12, 10, 15, 10, 16, 18, 20, 26, 22, 14, 15, 27, 13, 16, 6]\n",
    "    )\n",
    "    * 10000\n",
    ")"
   ]
  },
  {
   "cell_type": "code",
   "execution_count": 4,
   "metadata": {
    "colab": {
     "base_uri": "https://localhost:8080/",
     "height": 1000
    },
    "id": "RedBkH-Sl92r",
    "outputId": "7f264d07-3baf-4bec-a597-4310130c6ad0"
   },
   "outputs": [
    {
     "name": "stdout",
     "output_type": "stream",
     "text": [
      "------------------------      Somas      -------------------------\n",
      "\n",
      "Sxx: 213750000.0\n",
      "Syy: 72495000000.0\n",
      "Sxy: 3707500000.0\n",
      "\n",
      "------------------------   Parâmetros    -------------------------\n",
      "\n",
      "a: 17.34502923976608\n",
      "b: 31076.023391812865\n",
      "reta: y = 17.345x + 31076.0234\n",
      "\n",
      "------------------------  Valor Esperado, IC e IP  -------------------------\n",
      "\n",
      "y_p: 239216.37426900584\n",
      "IC: (222782.62983352283, 255650.11870448885)\n",
      "IP: (191488.34791262716, 286944.40062538453)\n",
      "Desvio Padrão Estimado: 7822.158138527677\n",
      "\n",
      "------------------------  Coeficientes   -------------------------\n",
      "\n",
      "r: 0.9418333636701189\n",
      "r²: 0.8870500849221705\n",
      "\n",
      "--------------------- Desvio e Erros Padrão ----------------------\n",
      "\n",
      "s: 21328.52041225454\n",
      "sb: 12270.74382005042\n",
      "sa: 1.4588400149986325\n",
      "\n",
      "------------------------  Valor Crítico  -------------------------\n",
      "\n",
      "tc: 2.10092204024096\n",
      "\n",
      "------------------------ Margens de Erro -------------------------\n",
      "\n",
      "Ea: 3.06490914069608\n",
      "Eb: 25779.87614169448\n",
      "\n",
      "------------------------ IC e t Críticos -------------------------\n",
      "\n",
      "Para a: (14.28012009907, 20.40993838046216, 11.889603425624667)\n",
      "Para b: (5296.147250118385, 56855.89953350734, 2.532529718453952)\n",
      "\n",
      "\n",
      "------------------------    Resíduos     -------------------------\n",
      "\n",
      "e: 10783.625730994157\n",
      "e*: 0.5434646181282163\n",
      "\n",
      "------------------------------------------------------------------\n",
      "\n"
     ]
    },
    {
     "data": {
      "image/png": "[encoded data removed]",
      "text/plain": [
       "<Figure size 648x432 with 1 Axes>"
      ]
     },
     "metadata": {
      "needs_background": "light"
     },
     "output_type": "display_data"
    }
   ],
   "source": [
    "# Para um investimento de R$12000 em marketing, espera-se que as vendas sejam de 239216 unidades.\n",
    "regressao(x, y, 12000)"
   ]
  },
  {
   "cell_type": "markdown",
   "metadata": {
    "id": "cQkLz6hamhHv"
   },
   "source": [
    "### Exercício 2"
   ]
  },
  {
   "cell_type": "code",
   "execution_count": 5,
   "metadata": {
    "id": "wH0FkbtOmTr6"
   },
   "outputs": [],
   "source": [
    "n = 20\n",
    "soma_x = 81300\n",
    "soma_y = 240.4\n",
    "Syy = 73.71\n",
    "Sxy = -41526\n",
    "Sxx = 25945500"
   ]
  },
  {
   "cell_type": "code",
   "execution_count": 6,
   "metadata": {
    "colab": {
     "base_uri": "https://localhost:8080/"
    },
    "id": "FC67dj7Wmu4r",
    "outputId": "38dc3623-9b0e-4f9d-8175-49ab508e7fdc"
   },
   "outputs": [
    {
     "data": {
      "text/plain": [
       "(-0.001600508758744291, 18.52606810429554, -0.9495675651511465)"
      ]
     },
     "execution_count": 6,
     "metadata": {},
     "output_type": "execute_result"
    }
   ],
   "source": [
    "a = Sxy / Sxx\n",
    "b = soma_y / n - a * soma_x / n\n",
    "r = Sxy / np.sqrt(Sxx * Syy)\n",
    "\n",
    "a, b, r"
   ]
  },
  {
   "cell_type": "markdown",
   "metadata": {
    "id": "U5ZRkvP7nJsI"
   },
   "source": [
    "#### A equação da reta é y = -0,0016x + 18,5261 e o Coeficiente de Pearson é cerca de -0.95"
   ]
  },
  {
   "cell_type": "code",
   "execution_count": 7,
   "metadata": {
    "id": "2JHsMhHEmuAa"
   },
   "outputs": [],
   "source": [
    "alpha = 0.05\n",
    "s = np.sqrt((Syy - a * Sxy) / (n - 2))\n",
    "t_c = t.ppf(1 - alpha / 2, n - 2)\n",
    "E_a = t_c * s / np.sqrt(Sxx)\n",
    "E_b = t_c * s * np.sqrt(1 / n + ((soma_x / n) ** 2) / Sxx)"
   ]
  },
  {
   "cell_type": "markdown",
   "metadata": {
    "id": "apyhiPJPdJPF"
   },
   "source": [
    "#### Os Intervalos de Confiança para os dois parâmetros são:"
   ]
  },
  {
   "cell_type": "code",
   "execution_count": 8,
   "metadata": {
    "colab": {
     "base_uri": "https://localhost:8080/"
    },
    "id": "a39OLlhdAInJ",
    "outputId": "96f389de-b518-4d26-cd8e-322711c1f354"
   },
   "outputs": [
    {
     "data": {
      "text/plain": [
       "(0.000261715823716452, -0.001862224582460743, -0.001338792935027839)"
      ]
     },
     "execution_count": 8,
     "metadata": {},
     "output_type": "execute_result"
    }
   ],
   "source": [
    "E_a, a - E_a, a + E_a"
   ]
  },
  {
   "cell_type": "code",
   "execution_count": 9,
   "metadata": {
    "colab": {
     "base_uri": "https://localhost:8080/"
    },
    "id": "iVL612EBC9K8",
    "outputId": "9a6ea394-effd-4813-9564-06b48966e514"
   },
   "outputs": [
    {
     "data": {
      "text/plain": [
       "(1.1048469190951247, 17.421221185200416, 19.630915023390664)"
      ]
     },
     "execution_count": 9,
     "metadata": {},
     "output_type": "execute_result"
    }
   ],
   "source": [
    "E_b, b - E_b, b + E_b"
   ]
  },
  {
   "cell_type": "markdown",
   "metadata": {
    "id": "J2ToSLwCZXMx"
   },
   "source": [
    "#### Exercício Extra de Atividade Avaliativa"
   ]
  },
  {
   "cell_type": "code",
   "execution_count": 10,
   "metadata": {
    "id": "V2YEx5T8ZTMD"
   },
   "outputs": [],
   "source": [
    "x = [\n",
    "    7.01,\n",
    "    7.11,\n",
    "    7.12,\n",
    "    7.24,\n",
    "    7.94,\n",
    "    7.94,\n",
    "    8.04,\n",
    "    8.05,\n",
    "    8.07,\n",
    "    8.90,\n",
    "    8.94,\n",
    "    8.95,\n",
    "    8.97,\n",
    "    8.98,\n",
    "    9.85,\n",
    "    9.86,\n",
    "    9.86,\n",
    "    9.87,\n",
    "]\n",
    "y = [60, 67, 66, 52, 50, 45, 52, 48, 40, 23, 20, 40, 31, 26, 9, 22, 13, 7]"
   ]
  },
  {
   "cell_type": "code",
   "execution_count": 11,
   "metadata": {
    "colab": {
     "base_uri": "https://localhost:8080/",
     "height": 1000
    },
    "id": "GEnv87K6ZVKu",
    "outputId": "fc4c9247-c2df-4466-da4b-f2abf218f0e8"
   },
   "outputs": [
    {
     "name": "stdout",
     "output_type": "stream",
     "text": [
      "------------------------      Somas      -------------------------\n",
      "\n",
      "Sxx: 17.271400000000313\n",
      "Syy: 6217.6111111111095\n",
      "Sxy: -311.47666666666646\n",
      "\n",
      "------------------------   Parâmetros    -------------------------\n",
      "\n",
      "a: -18.034245438508798\n",
      "b: 190.26829324779405\n",
      "reta: y = -18.0342x + 190.2683\n",
      "\n",
      "------------------------  Valor Esperado, IC e IP  -------------------------\n",
      "\n",
      "y_p: 45.99432973972367\n",
      "IC: (42.160021054142305, 49.82863842530503)\n",
      "IP: (30.910495479330187, 61.07816400011715)\n",
      "Desvio Padrão Estimado: 1.610008664235449\n",
      "\n",
      "------------------------  Coeficientes   -------------------------\n",
      "\n",
      "r: -0.9504952910870057\n",
      "r²: 0.9034412983785717\n",
      "\n",
      "--------------------- Desvio e Erros Padrão ----------------------\n",
      "\n",
      "s: 6.12558393173589\n",
      "sb: 12.587118179747488\n",
      "sa: 1.4739532996453948\n",
      "\n",
      "------------------------  Valor Crítico  -------------------------\n",
      "\n",
      "tc: 2.381545373485414\n",
      "\n",
      "------------------------ Margens de Erro -------------------------\n",
      "\n",
      "Ea: 3.5102866615040504\n",
      "Eb: 29.97679306649178\n",
      "\n",
      "------------------------ IC e t Críticos -------------------------\n",
      "\n",
      "Para a: (-21.544532100012848, -14.523958777004747, -12.2352895731822)\n",
      "Para b: (160.29150018130227, 220.24508631428583, 15.116112404023765)\n",
      "\n",
      "\n",
      "------------------------    Resíduos     -------------------------\n",
      "\n",
      "O valor de 8 não foi observado na amostra de variáveis preditoras!\n",
      "\n",
      "------------------------------------------------------------------\n",
      "\n"
     ]
    },
    {
     "data": {
      "image/png": "[encoded data removed]",
      "text/plain": [
       "<Figure size 648x432 with 1 Axes>"
      ]
     },
     "metadata": {
      "needs_background": "light"
     },
     "output_type": "display_data"
    }
   ],
   "source": [
    "regressao(x, y, 8, 0.03)"
   ]
  }
 ],
 "metadata": {
  "colab": {
   "collapsed_sections": [],
   "name": "5º Período - Estatística Inferencial.ipynb",
   "provenance": []
  },
  "kernelspec": {
   "display_name": "Python 3.10.6 ('check-Tl_cpngK-py3.10')",
   "language": "python",
   "name": "python3"
  },
  "language_info": {
   "name": "python",
   "version": "3.10.6"
  },
  "vscode": {
   "interpreter": {
    "hash": "3f075f80edc2412af0546738fc3f41eb606ade11875171cbe73456c258080335"
   }
  }
 },
 "nbformat": 4,
 "nbformat_minor": 0
}
